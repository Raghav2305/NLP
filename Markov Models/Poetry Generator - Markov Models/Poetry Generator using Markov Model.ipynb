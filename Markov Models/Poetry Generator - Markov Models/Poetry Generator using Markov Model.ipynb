{
 "cells": [
  {
   "cell_type": "code",
   "execution_count": 1,
   "id": "c112917d",
   "metadata": {},
   "outputs": [],
   "source": [
    "import numpy as np\n",
    "import string\n",
    "import requests\n",
    "np.random.seed(1234)"
   ]
  },
  {
   "cell_type": "code",
   "execution_count": 2,
   "id": "ea2db4b3",
   "metadata": {},
   "outputs": [],
   "source": [
    "url = \"https://raw.githubusercontent.com/lazyprogrammer/machine_learning_examples/master/hmm_class/robert_frost.txt\""
   ]
  },
  {
   "cell_type": "code",
   "execution_count": 3,
   "id": "f5b0b7b9",
   "metadata": {},
   "outputs": [],
   "source": [
    "response = requests.get(url)"
   ]
  },
  {
   "cell_type": "code",
   "execution_count": 4,
   "id": "1d607564",
   "metadata": {},
   "outputs": [],
   "source": [
    "with open('robert_frost_poems.txt', 'wb') as f:\n",
    "    f.write(response.content)"
   ]
  },
  {
   "cell_type": "code",
   "execution_count": 5,
   "id": "7eb02360",
   "metadata": {},
   "outputs": [],
   "source": [
    "initial = {}\n",
    "first_order = {}\n",
    "second_order = {}"
   ]
  },
  {
   "cell_type": "code",
   "execution_count": 6,
   "id": "2e6e6b4c",
   "metadata": {},
   "outputs": [],
   "source": [
    "def remove_punctuation(s):\n",
    "    return s.translate(str.maketrans('','',string.punctuation))"
   ]
  },
  {
   "cell_type": "code",
   "execution_count": 7,
   "id": "9ef5176c",
   "metadata": {},
   "outputs": [],
   "source": [
    "def addToDict(d, k, v):\n",
    "    if k not in d:\n",
    "        d[k] = []\n",
    "        d[k].append(v)"
   ]
  },
  {
   "cell_type": "code",
   "execution_count": 8,
   "id": "bea98d3a",
   "metadata": {},
   "outputs": [],
   "source": [
    "for line in open('robert_frost_poems.txt'):\n",
    "    tokens = remove_punctuation(line.rstrip().lower()).split()\n",
    "    \n",
    "    T = len(tokens)\n",
    "    for i in range(T):\n",
    "        t = tokens[i]\n",
    "        \n",
    "        if i == 0:\n",
    "            initial[t] = initial.get(t, 0) + 1\n",
    "        else:\n",
    "            t_1 = tokens[i - 1]\n",
    "        \n",
    "            if i == T - 1:\n",
    "                addToDict(second_order, (t_1, t), 'END')\n",
    "        \n",
    "            if i == 1:\n",
    "                addToDict(first_order, t_1, t)\n",
    "        \n",
    "            else:\n",
    "                t_2 = tokens[i - 2]\n",
    "                addToDict(second_order, (t_2, t_1), t)\n",
    "        \n",
    "    \n",
    "\n",
    "    "
   ]
  },
  {
   "cell_type": "code",
   "execution_count": 9,
   "id": "2b308533",
   "metadata": {},
   "outputs": [],
   "source": [
    "initial_total = sum(initial.values())\n",
    "\n",
    "for k,v in initial.items():\n",
    "    initial[k] = v / initial_total"
   ]
  },
  {
   "cell_type": "code",
   "execution_count": 10,
   "id": "7e235b53",
   "metadata": {},
   "outputs": [],
   "source": [
    "def list2pdict(list_of_tokens):\n",
    "    d = {}\n",
    "    n = len(list_of_tokens)\n",
    "    \n",
    "    for token in list_of_tokens:\n",
    "        d[token] = d.get(token, 0) + 1\n",
    "        \n",
    "    for k, v in d.items():\n",
    "        d[k] = v / n\n",
    "    \n",
    "    return d"
   ]
  },
  {
   "cell_type": "code",
   "execution_count": 11,
   "id": "f9349756",
   "metadata": {},
   "outputs": [],
   "source": [
    "for t_1, list_of_tokens in first_order.items():\n",
    "    first_order[t_1] = list2pdict(list_of_tokens)"
   ]
  },
  {
   "cell_type": "code",
   "execution_count": 12,
   "id": "40604d24",
   "metadata": {},
   "outputs": [],
   "source": [
    "for k, list_of_tokens in second_order.items():\n",
    "    second_order[k] = list2pdict(list_of_tokens)"
   ]
  },
  {
   "cell_type": "code",
   "execution_count": 13,
   "id": "2819c86c",
   "metadata": {},
   "outputs": [],
   "source": [
    "def sample_word(d):\n",
    "  # print \"d:\", d\n",
    "  p0 = np.random.random()\n",
    "  # print \"p0:\", p0\n",
    "  cumulative = 0\n",
    "  for t, p in d.items():\n",
    "    cumulative += p\n",
    "    if p0 < cumulative:\n",
    "      return t\n",
    "  assert(False) # should never get here"
   ]
  },
  {
   "cell_type": "code",
   "execution_count": 14,
   "id": "cef5343c",
   "metadata": {},
   "outputs": [],
   "source": [
    "def generate():\n",
    "  for i in range(4): # generate 4 lines\n",
    "    sentence = []\n",
    "\n",
    "    # initial word\n",
    "    w0 = sample_word(initial)\n",
    "    sentence.append(w0)\n",
    "\n",
    "    # sample second word\n",
    "    w1 = sample_word(first_order[w0])\n",
    "    sentence.append(w1)\n",
    "\n",
    "    # second-order transitions until END\n",
    "    while True:\n",
    "      w2 = sample_word(second_order[(w0, w1)])\n",
    "      if w2 == 'END':\n",
    "        break\n",
    "      sentence.append(w2)\n",
    "      w0 = w1\n",
    "      w1 = w2\n",
    "    print(' '.join(sentence))"
   ]
  },
  {
   "cell_type": "code",
   "execution_count": 15,
   "id": "7caaffc2",
   "metadata": {},
   "outputs": [
    {
     "name": "stdout",
     "output_type": "stream",
     "text": [
      "i doubted if i should ever come back\n",
      "might just as fair\n",
      "but i have promises to keep\n",
      "with no small dignity of mien\n"
     ]
    }
   ],
   "source": [
    "generate()"
   ]
  },
  {
   "cell_type": "code",
   "execution_count": null,
   "id": "623ddb95",
   "metadata": {},
   "outputs": [],
   "source": []
  },
  {
   "cell_type": "code",
   "execution_count": null,
   "id": "8905cfcb",
   "metadata": {},
   "outputs": [],
   "source": []
  }
 ],
 "metadata": {
  "kernelspec": {
   "display_name": "Python 3 (ipykernel)",
   "language": "python",
   "name": "python3"
  },
  "language_info": {
   "codemirror_mode": {
    "name": "ipython",
    "version": 3
   },
   "file_extension": ".py",
   "mimetype": "text/x-python",
   "name": "python",
   "nbconvert_exporter": "python",
   "pygments_lexer": "ipython3",
   "version": "3.11.5"
  }
 },
 "nbformat": 4,
 "nbformat_minor": 5
}

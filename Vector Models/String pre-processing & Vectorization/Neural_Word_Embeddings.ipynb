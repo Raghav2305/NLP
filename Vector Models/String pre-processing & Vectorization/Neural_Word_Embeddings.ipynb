{
  "nbformat": 4,
  "nbformat_minor": 0,
  "metadata": {
    "colab": {
      "provenance": [],
      "gpuType": "T4"
    },
    "kernelspec": {
      "name": "python3",
      "display_name": "Python 3"
    },
    "language_info": {
      "name": "python"
    },
    "accelerator": "GPU"
  },
  "cells": [
    {
      "cell_type": "code",
      "execution_count": null,
      "metadata": {
        "id": "971TqJ0cW--4"
      },
      "outputs": [],
      "source": [
        "import gdown"
      ]
    },
    {
      "cell_type": "code",
      "source": [
        "!wget -nc https://archive.org/download/google-news-vectors-negative-300.bin_202311/GoogleNews-vectors-negative300.bin.gz"
      ],
      "metadata": {
        "colab": {
          "base_uri": "https://localhost:8080/"
        },
        "id": "1ffyNs9dXF93",
        "outputId": "a488638e-90e5-4847-c21f-f53039285e26"
      },
      "execution_count": null,
      "outputs": [
        {
          "output_type": "stream",
          "name": "stdout",
          "text": [
            "--2024-01-06 06:09:15--  https://archive.org/download/google-news-vectors-negative-300.bin_202311/GoogleNews-vectors-negative300.bin.gz\n",
            "Resolving archive.org (archive.org)... 207.241.224.2\n",
            "Connecting to archive.org (archive.org)|207.241.224.2|:443... connected.\n",
            "HTTP request sent, awaiting response... 302 Found\n",
            "Location: https://ia801203.us.archive.org/18/items/google-news-vectors-negative-300.bin_202311/GoogleNews-vectors-negative300.bin.gz [following]\n",
            "--2024-01-06 06:09:16--  https://ia801203.us.archive.org/18/items/google-news-vectors-negative-300.bin_202311/GoogleNews-vectors-negative300.bin.gz\n",
            "Resolving ia801203.us.archive.org (ia801203.us.archive.org)... 207.241.228.23\n",
            "Connecting to ia801203.us.archive.org (ia801203.us.archive.org)|207.241.228.23|:443... connected.\n",
            "HTTP request sent, awaiting response... 200 OK\n",
            "Length: 1647046227 (1.5G) [application/octet-stream]\n",
            "Saving to: ‘GoogleNews-vectors-negative300.bin.gz’\n",
            "\n",
            "GoogleNews-vectors- 100%[===================>]   1.53G  2.04MB/s    in 17m 26s \n",
            "\n",
            "2024-01-06 06:26:43 (1.50 MB/s) - ‘GoogleNews-vectors-negative300.bin.gz’ saved [1647046227/1647046227]\n",
            "\n"
          ]
        }
      ]
    },
    {
      "cell_type": "code",
      "source": [
        "!gunzip GoogleNews-vectors-negative300.bin.gz"
      ],
      "metadata": {
        "id": "tTxfexWdXF7t"
      },
      "execution_count": null,
      "outputs": []
    },
    {
      "cell_type": "code",
      "source": [
        "from gensim.models import KeyedVectors"
      ],
      "metadata": {
        "id": "_6uC8uLJXF4-"
      },
      "execution_count": null,
      "outputs": []
    },
    {
      "cell_type": "code",
      "source": [
        "word_vectors = KeyedVectors.load_word2vec_format(\n",
        "    'GoogleNews-vectors-negative300.bin',\n",
        "    binary = True\n",
        ")"
      ],
      "metadata": {
        "id": "xpgsAkThXF2S"
      },
      "execution_count": null,
      "outputs": []
    },
    {
      "cell_type": "code",
      "source": [
        "def find_analogies(w1, w2, w3):\n",
        "  r =word_vectors.most_similar(positive=[w1, w3], negative=[w2])\n",
        "  print(\"%s %s %s %s\" % (w1, w2, r[0][0], w3))"
      ],
      "metadata": {
        "id": "mV6FodCIXFzm"
      },
      "execution_count": null,
      "outputs": []
    },
    {
      "cell_type": "code",
      "source": [
        "find_analogies('king', 'man', 'woman')"
      ],
      "metadata": {
        "colab": {
          "base_uri": "https://localhost:8080/"
        },
        "id": "Z9EEM6dTXFs6",
        "outputId": "b5a3f779-d599-4b51-a955-63e5338beec2"
      },
      "execution_count": null,
      "outputs": [
        {
          "output_type": "stream",
          "name": "stdout",
          "text": [
            "king man queen woman\n"
          ]
        }
      ]
    },
    {
      "cell_type": "code",
      "source": [
        "find_analogies('france', 'paris', 'london')"
      ],
      "metadata": {
        "colab": {
          "base_uri": "https://localhost:8080/"
        },
        "id": "arjZ11K_XFic",
        "outputId": "a0ad4dee-607a-4019-b169-efa3b6c05532"
      },
      "execution_count": null,
      "outputs": [
        {
          "output_type": "stream",
          "name": "stdout",
          "text": [
            "france paris england london\n"
          ]
        }
      ]
    },
    {
      "cell_type": "code",
      "source": [
        "def nearest_neightbours(w):\n",
        "  r = word_vectors.most_similar(positive=[w])\n",
        "  print(\"Neighbours of: %s\" % w)\n",
        "  for word, score in r:\n",
        "    print(\"\\t%s\" % word)"
      ],
      "metadata": {
        "id": "REiLygK5in50"
      },
      "execution_count": null,
      "outputs": []
    },
    {
      "cell_type": "code",
      "source": [
        "nearest_neightbours('king')"
      ],
      "metadata": {
        "colab": {
          "base_uri": "https://localhost:8080/"
        },
        "id": "6hawuhxoin3a",
        "outputId": "7e8cec81-29f3-40ce-c107-75c8941abd61"
      },
      "execution_count": null,
      "outputs": [
        {
          "output_type": "stream",
          "name": "stdout",
          "text": [
            "Neighbours of: king\n",
            "\tkings\n",
            "\tqueen\n",
            "\tmonarch\n",
            "\tcrown_prince\n",
            "\tprince\n",
            "\tsultan\n",
            "\truler\n",
            "\tprinces\n",
            "\tPrince_Paras\n",
            "\tthrone\n"
          ]
        }
      ]
    },
    {
      "cell_type": "code",
      "source": [
        "nearest_neightbours('February')"
      ],
      "metadata": {
        "colab": {
          "base_uri": "https://localhost:8080/"
        },
        "id": "fV0tCmoiin0p",
        "outputId": "a3817465-4e9a-4463-ca1c-cc8e6e509e0a"
      },
      "execution_count": null,
      "outputs": [
        {
          "output_type": "stream",
          "name": "stdout",
          "text": [
            "Neighbours of: February\n",
            "\tJanuary\n",
            "\tOctober\n",
            "\tDecember\n",
            "\tNovember\n",
            "\tAugust\n",
            "\tMarch\n",
            "\tSeptember\n",
            "\tApril\n",
            "\tJune\n",
            "\tMay\n"
          ]
        }
      ]
    },
    {
      "cell_type": "code",
      "source": [],
      "metadata": {
        "id": "8hJp-NAginuh"
      },
      "execution_count": null,
      "outputs": []
    },
    {
      "cell_type": "code",
      "source": [],
      "metadata": {
        "id": "s2tUo083inju"
      },
      "execution_count": null,
      "outputs": []
    }
  ]
}
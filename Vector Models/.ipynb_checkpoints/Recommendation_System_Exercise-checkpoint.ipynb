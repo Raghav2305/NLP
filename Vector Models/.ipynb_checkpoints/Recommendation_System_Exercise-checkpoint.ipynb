{
 "cells": [
  {
   "cell_type": "markdown",
   "id": "e8f6ce75-b3d9-456a-bc64-bad958945dbf",
   "metadata": {},
   "source": [
    "### Data URL : https://lazyprogrammer.me/course_files/nlp/tmdb_5000_movies.csv"
   ]
  },
  {
   "cell_type": "code",
   "execution_count": 10,
   "id": "6858409f-edfb-4e73-b163-e8a028f17572",
   "metadata": {},
   "outputs": [],
   "source": [
    "import numpy as np\n",
    "import pandas as pd\n",
    "import requests\n",
    "import nltk\n",
    "import sklearn as sk\n",
    "import json"
   ]
  },
  {
   "cell_type": "code",
   "execution_count": 2,
   "id": "33c2f286-4c8a-4f26-954c-d32ace739222",
   "metadata": {},
   "outputs": [],
   "source": [
    "from sklearn.feature_extraction.text import TfidfVectorizer\n",
    "from sklearn.metrics.pairwise import cosine_similarity, euclidean_distances"
   ]
  },
  {
   "cell_type": "code",
   "execution_count": 3,
   "id": "80a49b04-a3ff-4e61-8c3a-aad0e67869ab",
   "metadata": {},
   "outputs": [],
   "source": [
    "url = \"https://lazyprogrammer.me/course_files/nlp/tmdb_5000_movies.csv\"\n",
    "response = requests.get(url)\n",
    "\n",
    "with open('tmdb_5000_movies.csv', 'wb') as file:\n",
    "    file.write(response.content)"
   ]
  },
  {
   "cell_type": "code",
   "execution_count": 4,
   "id": "db8d2ac1-c8b0-4baf-9b2e-18581991cdd1",
   "metadata": {},
   "outputs": [
    {
     "data": {
      "text/html": [
       "<div>\n",
       "<style scoped>\n",
       "    .dataframe tbody tr th:only-of-type {\n",
       "        vertical-align: middle;\n",
       "    }\n",
       "\n",
       "    .dataframe tbody tr th {\n",
       "        vertical-align: top;\n",
       "    }\n",
       "\n",
       "    .dataframe thead th {\n",
       "        text-align: right;\n",
       "    }\n",
       "</style>\n",
       "<table border=\"1\" class=\"dataframe\">\n",
       "  <thead>\n",
       "    <tr style=\"text-align: right;\">\n",
       "      <th></th>\n",
       "      <th>budget</th>\n",
       "      <th>genres</th>\n",
       "      <th>homepage</th>\n",
       "      <th>id</th>\n",
       "      <th>keywords</th>\n",
       "      <th>original_language</th>\n",
       "      <th>original_title</th>\n",
       "      <th>overview</th>\n",
       "      <th>popularity</th>\n",
       "      <th>production_companies</th>\n",
       "      <th>production_countries</th>\n",
       "      <th>release_date</th>\n",
       "      <th>revenue</th>\n",
       "      <th>runtime</th>\n",
       "      <th>spoken_languages</th>\n",
       "      <th>status</th>\n",
       "      <th>tagline</th>\n",
       "      <th>title</th>\n",
       "      <th>vote_average</th>\n",
       "      <th>vote_count</th>\n",
       "    </tr>\n",
       "  </thead>\n",
       "  <tbody>\n",
       "    <tr>\n",
       "      <th>0</th>\n",
       "      <td>237000000</td>\n",
       "      <td>[{\"id\": 28, \"name\": \"Action\"}, {\"id\": 12, \"nam...</td>\n",
       "      <td>http://www.avatarmovie.com/</td>\n",
       "      <td>19995</td>\n",
       "      <td>[{\"id\": 1463, \"name\": \"culture clash\"}, {\"id\":...</td>\n",
       "      <td>en</td>\n",
       "      <td>Avatar</td>\n",
       "      <td>In the 22nd century, a paraplegic Marine is di...</td>\n",
       "      <td>150.437577</td>\n",
       "      <td>[{\"name\": \"Ingenious Film Partners\", \"id\": 289...</td>\n",
       "      <td>[{\"iso_3166_1\": \"US\", \"name\": \"United States o...</td>\n",
       "      <td>2009-12-10</td>\n",
       "      <td>2787965087</td>\n",
       "      <td>162.0</td>\n",
       "      <td>[{\"iso_639_1\": \"en\", \"name\": \"English\"}, {\"iso...</td>\n",
       "      <td>Released</td>\n",
       "      <td>Enter the World of Pandora.</td>\n",
       "      <td>Avatar</td>\n",
       "      <td>7.2</td>\n",
       "      <td>11800</td>\n",
       "    </tr>\n",
       "    <tr>\n",
       "      <th>1</th>\n",
       "      <td>300000000</td>\n",
       "      <td>[{\"id\": 12, \"name\": \"Adventure\"}, {\"id\": 14, \"...</td>\n",
       "      <td>http://disney.go.com/disneypictures/pirates/</td>\n",
       "      <td>285</td>\n",
       "      <td>[{\"id\": 270, \"name\": \"ocean\"}, {\"id\": 726, \"na...</td>\n",
       "      <td>en</td>\n",
       "      <td>Pirates of the Caribbean: At World's End</td>\n",
       "      <td>Captain Barbossa, long believed to be dead, ha...</td>\n",
       "      <td>139.082615</td>\n",
       "      <td>[{\"name\": \"Walt Disney Pictures\", \"id\": 2}, {\"...</td>\n",
       "      <td>[{\"iso_3166_1\": \"US\", \"name\": \"United States o...</td>\n",
       "      <td>2007-05-19</td>\n",
       "      <td>961000000</td>\n",
       "      <td>169.0</td>\n",
       "      <td>[{\"iso_639_1\": \"en\", \"name\": \"English\"}]</td>\n",
       "      <td>Released</td>\n",
       "      <td>At the end of the world, the adventure begins.</td>\n",
       "      <td>Pirates of the Caribbean: At World's End</td>\n",
       "      <td>6.9</td>\n",
       "      <td>4500</td>\n",
       "    </tr>\n",
       "    <tr>\n",
       "      <th>2</th>\n",
       "      <td>245000000</td>\n",
       "      <td>[{\"id\": 28, \"name\": \"Action\"}, {\"id\": 12, \"nam...</td>\n",
       "      <td>http://www.sonypictures.com/movies/spectre/</td>\n",
       "      <td>206647</td>\n",
       "      <td>[{\"id\": 470, \"name\": \"spy\"}, {\"id\": 818, \"name...</td>\n",
       "      <td>en</td>\n",
       "      <td>Spectre</td>\n",
       "      <td>A cryptic message from Bond’s past sends him o...</td>\n",
       "      <td>107.376788</td>\n",
       "      <td>[{\"name\": \"Columbia Pictures\", \"id\": 5}, {\"nam...</td>\n",
       "      <td>[{\"iso_3166_1\": \"GB\", \"name\": \"United Kingdom\"...</td>\n",
       "      <td>2015-10-26</td>\n",
       "      <td>880674609</td>\n",
       "      <td>148.0</td>\n",
       "      <td>[{\"iso_639_1\": \"fr\", \"name\": \"Fran\\u00e7ais\"},...</td>\n",
       "      <td>Released</td>\n",
       "      <td>A Plan No One Escapes</td>\n",
       "      <td>Spectre</td>\n",
       "      <td>6.3</td>\n",
       "      <td>4466</td>\n",
       "    </tr>\n",
       "    <tr>\n",
       "      <th>3</th>\n",
       "      <td>250000000</td>\n",
       "      <td>[{\"id\": 28, \"name\": \"Action\"}, {\"id\": 80, \"nam...</td>\n",
       "      <td>http://www.thedarkknightrises.com/</td>\n",
       "      <td>49026</td>\n",
       "      <td>[{\"id\": 849, \"name\": \"dc comics\"}, {\"id\": 853,...</td>\n",
       "      <td>en</td>\n",
       "      <td>The Dark Knight Rises</td>\n",
       "      <td>Following the death of District Attorney Harve...</td>\n",
       "      <td>112.312950</td>\n",
       "      <td>[{\"name\": \"Legendary Pictures\", \"id\": 923}, {\"...</td>\n",
       "      <td>[{\"iso_3166_1\": \"US\", \"name\": \"United States o...</td>\n",
       "      <td>2012-07-16</td>\n",
       "      <td>1084939099</td>\n",
       "      <td>165.0</td>\n",
       "      <td>[{\"iso_639_1\": \"en\", \"name\": \"English\"}]</td>\n",
       "      <td>Released</td>\n",
       "      <td>The Legend Ends</td>\n",
       "      <td>The Dark Knight Rises</td>\n",
       "      <td>7.6</td>\n",
       "      <td>9106</td>\n",
       "    </tr>\n",
       "    <tr>\n",
       "      <th>4</th>\n",
       "      <td>260000000</td>\n",
       "      <td>[{\"id\": 28, \"name\": \"Action\"}, {\"id\": 12, \"nam...</td>\n",
       "      <td>http://movies.disney.com/john-carter</td>\n",
       "      <td>49529</td>\n",
       "      <td>[{\"id\": 818, \"name\": \"based on novel\"}, {\"id\":...</td>\n",
       "      <td>en</td>\n",
       "      <td>John Carter</td>\n",
       "      <td>John Carter is a war-weary, former military ca...</td>\n",
       "      <td>43.926995</td>\n",
       "      <td>[{\"name\": \"Walt Disney Pictures\", \"id\": 2}]</td>\n",
       "      <td>[{\"iso_3166_1\": \"US\", \"name\": \"United States o...</td>\n",
       "      <td>2012-03-07</td>\n",
       "      <td>284139100</td>\n",
       "      <td>132.0</td>\n",
       "      <td>[{\"iso_639_1\": \"en\", \"name\": \"English\"}]</td>\n",
       "      <td>Released</td>\n",
       "      <td>Lost in our world, found in another.</td>\n",
       "      <td>John Carter</td>\n",
       "      <td>6.1</td>\n",
       "      <td>2124</td>\n",
       "    </tr>\n",
       "  </tbody>\n",
       "</table>\n",
       "</div>"
      ],
      "text/plain": [
       "      budget                                             genres  \\\n",
       "0  237000000  [{\"id\": 28, \"name\": \"Action\"}, {\"id\": 12, \"nam...   \n",
       "1  300000000  [{\"id\": 12, \"name\": \"Adventure\"}, {\"id\": 14, \"...   \n",
       "2  245000000  [{\"id\": 28, \"name\": \"Action\"}, {\"id\": 12, \"nam...   \n",
       "3  250000000  [{\"id\": 28, \"name\": \"Action\"}, {\"id\": 80, \"nam...   \n",
       "4  260000000  [{\"id\": 28, \"name\": \"Action\"}, {\"id\": 12, \"nam...   \n",
       "\n",
       "                                       homepage      id  \\\n",
       "0                   http://www.avatarmovie.com/   19995   \n",
       "1  http://disney.go.com/disneypictures/pirates/     285   \n",
       "2   http://www.sonypictures.com/movies/spectre/  206647   \n",
       "3            http://www.thedarkknightrises.com/   49026   \n",
       "4          http://movies.disney.com/john-carter   49529   \n",
       "\n",
       "                                            keywords original_language  \\\n",
       "0  [{\"id\": 1463, \"name\": \"culture clash\"}, {\"id\":...                en   \n",
       "1  [{\"id\": 270, \"name\": \"ocean\"}, {\"id\": 726, \"na...                en   \n",
       "2  [{\"id\": 470, \"name\": \"spy\"}, {\"id\": 818, \"name...                en   \n",
       "3  [{\"id\": 849, \"name\": \"dc comics\"}, {\"id\": 853,...                en   \n",
       "4  [{\"id\": 818, \"name\": \"based on novel\"}, {\"id\":...                en   \n",
       "\n",
       "                             original_title  \\\n",
       "0                                    Avatar   \n",
       "1  Pirates of the Caribbean: At World's End   \n",
       "2                                   Spectre   \n",
       "3                     The Dark Knight Rises   \n",
       "4                               John Carter   \n",
       "\n",
       "                                            overview  popularity  \\\n",
       "0  In the 22nd century, a paraplegic Marine is di...  150.437577   \n",
       "1  Captain Barbossa, long believed to be dead, ha...  139.082615   \n",
       "2  A cryptic message from Bond’s past sends him o...  107.376788   \n",
       "3  Following the death of District Attorney Harve...  112.312950   \n",
       "4  John Carter is a war-weary, former military ca...   43.926995   \n",
       "\n",
       "                                production_companies  \\\n",
       "0  [{\"name\": \"Ingenious Film Partners\", \"id\": 289...   \n",
       "1  [{\"name\": \"Walt Disney Pictures\", \"id\": 2}, {\"...   \n",
       "2  [{\"name\": \"Columbia Pictures\", \"id\": 5}, {\"nam...   \n",
       "3  [{\"name\": \"Legendary Pictures\", \"id\": 923}, {\"...   \n",
       "4        [{\"name\": \"Walt Disney Pictures\", \"id\": 2}]   \n",
       "\n",
       "                                production_countries release_date     revenue  \\\n",
       "0  [{\"iso_3166_1\": \"US\", \"name\": \"United States o...   2009-12-10  2787965087   \n",
       "1  [{\"iso_3166_1\": \"US\", \"name\": \"United States o...   2007-05-19   961000000   \n",
       "2  [{\"iso_3166_1\": \"GB\", \"name\": \"United Kingdom\"...   2015-10-26   880674609   \n",
       "3  [{\"iso_3166_1\": \"US\", \"name\": \"United States o...   2012-07-16  1084939099   \n",
       "4  [{\"iso_3166_1\": \"US\", \"name\": \"United States o...   2012-03-07   284139100   \n",
       "\n",
       "   runtime                                   spoken_languages    status  \\\n",
       "0    162.0  [{\"iso_639_1\": \"en\", \"name\": \"English\"}, {\"iso...  Released   \n",
       "1    169.0           [{\"iso_639_1\": \"en\", \"name\": \"English\"}]  Released   \n",
       "2    148.0  [{\"iso_639_1\": \"fr\", \"name\": \"Fran\\u00e7ais\"},...  Released   \n",
       "3    165.0           [{\"iso_639_1\": \"en\", \"name\": \"English\"}]  Released   \n",
       "4    132.0           [{\"iso_639_1\": \"en\", \"name\": \"English\"}]  Released   \n",
       "\n",
       "                                          tagline  \\\n",
       "0                     Enter the World of Pandora.   \n",
       "1  At the end of the world, the adventure begins.   \n",
       "2                           A Plan No One Escapes   \n",
       "3                                 The Legend Ends   \n",
       "4            Lost in our world, found in another.   \n",
       "\n",
       "                                      title  vote_average  vote_count  \n",
       "0                                    Avatar           7.2       11800  \n",
       "1  Pirates of the Caribbean: At World's End           6.9        4500  \n",
       "2                                   Spectre           6.3        4466  \n",
       "3                     The Dark Knight Rises           7.6        9106  \n",
       "4                               John Carter           6.1        2124  "
      ]
     },
     "execution_count": 4,
     "metadata": {},
     "output_type": "execute_result"
    }
   ],
   "source": [
    "df = pd.read_csv('tmdb_5000_movies.csv')\n",
    "df.head(5)\n"
   ]
  },
  {
   "cell_type": "markdown",
   "id": "a43dcdd2-4c68-44ee-b4d5-1bdabc9c1918",
   "metadata": {},
   "source": [
    "### Check the first row in the dataframe"
   ]
  },
  {
   "cell_type": "code",
   "execution_count": 5,
   "id": "163ef408-94c9-4c42-9301-6fc13c2dca97",
   "metadata": {},
   "outputs": [
    {
     "data": {
      "text/plain": [
       "budget                                                          237000000\n",
       "genres                  [{\"id\": 28, \"name\": \"Action\"}, {\"id\": 12, \"nam...\n",
       "homepage                                      http://www.avatarmovie.com/\n",
       "id                                                                  19995\n",
       "keywords                [{\"id\": 1463, \"name\": \"culture clash\"}, {\"id\":...\n",
       "original_language                                                      en\n",
       "original_title                                                     Avatar\n",
       "overview                In the 22nd century, a paraplegic Marine is di...\n",
       "popularity                                                     150.437577\n",
       "production_companies    [{\"name\": \"Ingenious Film Partners\", \"id\": 289...\n",
       "production_countries    [{\"iso_3166_1\": \"US\", \"name\": \"United States o...\n",
       "release_date                                                   2009-12-10\n",
       "revenue                                                        2787965087\n",
       "runtime                                                             162.0\n",
       "spoken_languages        [{\"iso_639_1\": \"en\", \"name\": \"English\"}, {\"iso...\n",
       "status                                                           Released\n",
       "tagline                                       Enter the World of Pandora.\n",
       "title                                                              Avatar\n",
       "vote_average                                                          7.2\n",
       "vote_count                                                          11800\n",
       "Name: 0, dtype: object"
      ]
     },
     "execution_count": 5,
     "metadata": {},
     "output_type": "execute_result"
    }
   ],
   "source": [
    "X = df.iloc[0]\n",
    "X"
   ]
  },
  {
   "cell_type": "markdown",
   "id": "3bd8a914-7bad-4d02-a1a4-33532c680793",
   "metadata": {},
   "source": [
    "### Check the genres & keywords : Used as training material for the vectorizer "
   ]
  },
  {
   "cell_type": "code",
   "execution_count": 6,
   "id": "57d6521c-3440-41f9-8b5d-d5e655e72d32",
   "metadata": {},
   "outputs": [
    {
     "data": {
      "text/plain": [
       "'[{\"id\": 28, \"name\": \"Action\"}, {\"id\": 12, \"name\": \"Adventure\"}, {\"id\": 14, \"name\": \"Fantasy\"}, {\"id\": 878, \"name\": \"Science Fiction\"}]'"
      ]
     },
     "execution_count": 6,
     "metadata": {},
     "output_type": "execute_result"
    }
   ],
   "source": [
    "X['genres']"
   ]
  },
  {
   "cell_type": "code",
   "execution_count": 7,
   "id": "84519b0b-4ece-492a-b4d1-94d5d07f2f4d",
   "metadata": {},
   "outputs": [
    {
     "data": {
      "text/plain": [
       "'[{\"id\": 1463, \"name\": \"culture clash\"}, {\"id\": 2964, \"name\": \"future\"}, {\"id\": 3386, \"name\": \"space war\"}, {\"id\": 3388, \"name\": \"space colony\"}, {\"id\": 3679, \"name\": \"society\"}, {\"id\": 3801, \"name\": \"space travel\"}, {\"id\": 9685, \"name\": \"futuristic\"}, {\"id\": 9840, \"name\": \"romance\"}, {\"id\": 9882, \"name\": \"space\"}, {\"id\": 9951, \"name\": \"alien\"}, {\"id\": 10148, \"name\": \"tribe\"}, {\"id\": 10158, \"name\": \"alien planet\"}, {\"id\": 10987, \"name\": \"cgi\"}, {\"id\": 11399, \"name\": \"marine\"}, {\"id\": 13065, \"name\": \"soldier\"}, {\"id\": 14643, \"name\": \"battle\"}, {\"id\": 14720, \"name\": \"love affair\"}, {\"id\": 165431, \"name\": \"anti war\"}, {\"id\": 193554, \"name\": \"power relations\"}, {\"id\": 206690, \"name\": \"mind and soul\"}, {\"id\": 209714, \"name\": \"3d\"}]'"
      ]
     },
     "execution_count": 7,
     "metadata": {},
     "output_type": "execute_result"
    }
   ],
   "source": [
    "X['keywords']"
   ]
  },
  {
   "cell_type": "code",
   "execution_count": 11,
   "id": "eeaa9caf-bb0b-4958-bed6-eaf1437b9720",
   "metadata": {},
   "outputs": [],
   "source": [
    "def genres_and_keywords_toString(row):\n",
    "    genres = json.loads(row['genres'])\n",
    "    genres = ''.join(''.join(j['name'].split()) for j in genres)\n",
    "\n",
    "    keywords = json.loads(row['keywords'])\n",
    "    keywords = ''.join(''.join(k['name'].split()) for k in keywords)\n",
    "\n",
    "    return \"%s %s\" % (genres, keywords)"
   ]
  },
  {
   "cell_type": "markdown",
   "id": "7293908e-8dce-435e-a297-de2b0a14eb75",
   "metadata": {},
   "source": [
    "### Apply the genres_and_keywords_toString function to every row and store it in a dataframe column"
   ]
  },
  {
   "cell_type": "code",
   "execution_count": 12,
   "id": "bfb94f37-cdbd-4436-a0e7-85327cf60edc",
   "metadata": {},
   "outputs": [],
   "source": [
    "df['String'] = df.apply(genres_and_keywords_toString, axis=1)"
   ]
  },
  {
   "cell_type": "code",
   "execution_count": 13,
   "id": "d030939d-ff25-445d-9282-7ae737549986",
   "metadata": {},
   "outputs": [],
   "source": [
    "tfidf = TfidfVectorizer(max_features=2000)"
   ]
  },
  {
   "cell_type": "markdown",
   "id": "eec2e661-b95e-4779-aa90-c5eb4bc1e146",
   "metadata": {},
   "source": [
    "### Create an instance of the TfidfVectorizer and fit_transform on the input data stored in df['String'] column"
   ]
  },
  {
   "cell_type": "code",
   "execution_count": 14,
   "id": "9edcddef-0564-4c22-924f-a597ba9853f5",
   "metadata": {},
   "outputs": [],
   "source": [
    "X = tfidf.fit_transform(df['String'])"
   ]
  },
  {
   "cell_type": "code",
   "execution_count": 15,
   "id": "7840ac6b-0b77-46af-84f0-23c2e556a66c",
   "metadata": {},
   "outputs": [
    {
     "data": {
      "text/plain": [
       "<4803x2000 sparse matrix of type '<class 'numpy.float64'>'\n",
       "\twith 5899 stored elements in Compressed Sparse Row format>"
      ]
     },
     "execution_count": 15,
     "metadata": {},
     "output_type": "execute_result"
    }
   ],
   "source": [
    "X"
   ]
  },
  {
   "cell_type": "markdown",
   "id": "a40c5328-32a5-4fe2-835d-e1611fa8c836",
   "metadata": {},
   "source": [
    "### Create a mapping between indexes from the dataframe and movie titles. Set indexs of the series as the titles of the movie. "
   ]
  },
  {
   "cell_type": "code",
   "execution_count": 16,
   "id": "3041e9d5-90b0-4359-a05d-89c5d9124d5e",
   "metadata": {},
   "outputs": [
    {
     "data": {
      "text/plain": [
       "title\n",
       "Avatar                                         0\n",
       "Pirates of the Caribbean: At World's End       1\n",
       "Spectre                                        2\n",
       "The Dark Knight Rises                          3\n",
       "John Carter                                    4\n",
       "                                            ... \n",
       "El Mariachi                                 4798\n",
       "Newlyweds                                   4799\n",
       "Signed, Sealed, Delivered                   4800\n",
       "Shanghai Calling                            4801\n",
       "My Date with Drew                           4802\n",
       "Length: 4803, dtype: int64"
      ]
     },
     "execution_count": 16,
     "metadata": {},
     "output_type": "execute_result"
    }
   ],
   "source": [
    "movie2idx = pd.Series(df.index, index=df['title'])\n",
    "movie2idx"
   ]
  },
  {
   "cell_type": "code",
   "execution_count": 58,
   "id": "cab87562-b747-4771-812f-4ad909f21072",
   "metadata": {},
   "outputs": [
    {
     "data": {
      "text/plain": [
       "262"
      ]
     },
     "execution_count": 58,
     "metadata": {},
     "output_type": "execute_result"
    }
   ],
   "source": [
    "idx = movie2idx['The Lord of the Rings: The Fellowship of the Ring']\n",
    "idx"
   ]
  },
  {
   "cell_type": "markdown",
   "id": "19a71d2b-f46c-4ecc-bc37-ac08adef03bc",
   "metadata": {},
   "source": [
    "### Get the index of the movie of which you want to make recommendations & get its original vector / row from the matrix X "
   ]
  },
  {
   "cell_type": "code",
   "execution_count": 59,
   "id": "85c5a8c9-0603-4f8f-9b50-c8ea5a82755f",
   "metadata": {},
   "outputs": [
    {
     "data": {
      "text/plain": [
       "<1x2000 sparse matrix of type '<class 'numpy.float64'>'\n",
       "\twith 3 stored elements in Compressed Sparse Row format>"
      ]
     },
     "execution_count": 59,
     "metadata": {},
     "output_type": "execute_result"
    }
   ],
   "source": [
    "query = X[idx]\n",
    "query"
   ]
  },
  {
   "cell_type": "code",
   "execution_count": 60,
   "id": "3b1fa643-f7e4-46e0-a1ac-f2bc71d9fc85",
   "metadata": {},
   "outputs": [
    {
     "data": {
      "text/plain": [
       "array([[0., 0., 0., ..., 0., 0., 0.]])"
      ]
     },
     "execution_count": 60,
     "metadata": {},
     "output_type": "execute_result"
    }
   ],
   "source": [
    "query.toarray()"
   ]
  },
  {
   "cell_type": "markdown",
   "id": "eae0a3f4-24d6-40ce-bcfe-4b6da6f2a2b3",
   "metadata": {},
   "source": [
    "### Compute cosine similarities between our query vector and all other vectors from the dataframe to determine what vectors closely resemble each other."
   ]
  },
  {
   "cell_type": "code",
   "execution_count": 61,
   "id": "b8127885-490b-48d0-bb92-c86f5faece85",
   "metadata": {},
   "outputs": [
    {
     "data": {
      "text/plain": [
       "array([[0.        , 0.32711919, 0.        , ..., 0.        , 0.        ,\n",
       "        0.        ]])"
      ]
     },
     "execution_count": 61,
     "metadata": {},
     "output_type": "execute_result"
    }
   ],
   "source": [
    "scores = cosine_similarity(query, X)\n",
    "scores"
   ]
  },
  {
   "cell_type": "code",
   "execution_count": 62,
   "id": "7604c70d-5d80-4c50-aaa5-954d10dd1d27",
   "metadata": {},
   "outputs": [],
   "source": [
    "scores = scores.flatten()"
   ]
  },
  {
   "cell_type": "code",
   "execution_count": 63,
   "id": "39dfd83f-2d22-4e2e-b22d-60072b40b27f",
   "metadata": {},
   "outputs": [],
   "source": [
    "import matplotlib.pyplot as plt"
   ]
  },
  {
   "cell_type": "code",
   "execution_count": 64,
   "id": "2b57baaa-2cbb-4161-822e-5d43e6f98e7e",
   "metadata": {},
   "outputs": [
    {
     "data": {
      "text/plain": [
       "[<matplotlib.lines.Line2D at 0x223a6425b10>]"
      ]
     },
     "execution_count": 64,
     "metadata": {},
     "output_type": "execute_result"
    },
    {
     "data": {
      "image/png": "[encoded data removed]",
      "text/plain": [
       "<Figure size 640x480 with 1 Axes>"
      ]
     },
     "metadata": {},
     "output_type": "display_data"
    }
   ],
   "source": [
    "plt.plot(scores)"
   ]
  },
  {
   "cell_type": "markdown",
   "id": "b13b485b-cf10-4bb8-a56e-df87562eddfd",
   "metadata": {},
   "source": [
    "### Sort the scores in descending order (We want the movie most similar to our movie, so the score will be at the top). Use argsort() to determine the actual sorting of the movies instead of the scores."
   ]
  },
  {
   "cell_type": "code",
   "execution_count": 68,
   "id": "fe15529d-f675-4e64-856d-1cce3710e173",
   "metadata": {},
   "outputs": [
    {
     "data": {
      "text/plain": [
       "array([  98,  262,  329, ..., 1603, 1601, 4802], dtype=int64)"
      ]
     },
     "execution_count": 68,
     "metadata": {},
     "output_type": "execute_result"
    }
   ],
   "source": [
    "(-scores).argsort()"
   ]
  },
  {
   "cell_type": "code",
   "execution_count": 69,
   "id": "cab78bf6-f7bb-4a29-be99-9bd1557b2873",
   "metadata": {},
   "outputs": [
    {
     "data": {
      "text/plain": [
       "[<matplotlib.lines.Line2D at 0x223a6524400>]"
      ]
     },
     "execution_count": 69,
     "metadata": {},
     "output_type": "execute_result"
    },
    {
     "data": {
      "image/png": "[encoded data removed]",
      "text/plain": [
       "<Figure size 640x480 with 1 Axes>"
      ]
     },
     "metadata": {},
     "output_type": "display_data"
    }
   ],
   "source": [
    "plt.plot(scores[(-scores).argsort()])"
   ]
  },
  {
   "cell_type": "markdown",
   "id": "473ddc44-7b38-47ac-8cae-099bcc829d6a",
   "metadata": {},
   "source": [
    "### Generate the indices of number of similar movies you want to recommend by accessing the sorted numpy array."
   ]
  },
  {
   "cell_type": "code",
   "execution_count": 72,
   "id": "68a90ab0-cf3e-413f-9386-9d2daad70e70",
   "metadata": {},
   "outputs": [],
   "source": [
    "recommended_idx = (-scores).argsort()[1:11]"
   ]
  },
  {
   "cell_type": "code",
   "execution_count": 73,
   "id": "85a45276-6cd2-4e5e-86c1-8cf19fbcb597",
   "metadata": {},
   "outputs": [
    {
     "data": {
      "text/plain": [
       "262     The Lord of the Rings: The Fellowship of the Ring\n",
       "329         The Lord of the Rings: The Return of the King\n",
       "330                 The Lord of the Rings: The Two Towers\n",
       "19              The Hobbit: The Battle of the Five Armies\n",
       "2343                                  Conan the Destroyer\n",
       "208                                      The 13th Warrior\n",
       "206                                   Clash of the Titans\n",
       "379                                   Conan the Barbarian\n",
       "12             Pirates of the Caribbean: Dead Man's Chest\n",
       "199     Pirates of the Caribbean: The Curse of the Bla...\n",
       "Name: title, dtype: object"
      ]
     },
     "execution_count": 73,
     "metadata": {},
     "output_type": "execute_result"
    }
   ],
   "source": [
    "df['title'].iloc[recommended_idx]"
   ]
  },
  {
   "cell_type": "markdown",
   "id": "a9496dfe-5e83-4169-8bd4-206f3abbbabd",
   "metadata": {},
   "source": [
    "## Function to do all these tasks at once..."
   ]
  },
  {
   "cell_type": "code",
   "execution_count": 74,
   "id": "c030e7db-09ca-4f2b-bad7-5edfaf2ce330",
   "metadata": {},
   "outputs": [],
   "source": [
    "def recommend(title):\n",
    "    idx = movie2idx[title]\n",
    "    if type(idx) == pd.Series:\n",
    "        idx = idx.iloc[0]\n",
    "\n",
    "    query = X[idx]\n",
    "    scores = cosine_similarity(query, X)\n",
    "\n",
    "    scores = scores.flatten()\n",
    "    recommended_idx = (-scores).argsort()[1:10]\n",
    "\n",
    "    return df['title'].iloc[recommended_idx]"
   ]
  },
  {
   "cell_type": "code",
   "execution_count": 75,
   "id": "b77de45b-4bda-4726-8fbb-bf4757b218e8",
   "metadata": {},
   "outputs": [
    {
     "name": "stdout",
     "output_type": "stream",
     "text": [
      "Determinign recommendations for 'Scream 3'... \n",
      "4496    The Blair Witch Project\n",
      "4577        Paranormal Activity\n",
      "3189                The Wailing\n",
      "1839        Final Destination 3\n",
      "4080               Silent House\n",
      "1219                   Scream 4\n",
      "1789        Final Destination 2\n",
      "4234                  Session 9\n",
      "1961                   Scream 2\n",
      "Name: title, dtype: object\n"
     ]
    }
   ],
   "source": [
    "print(\"Determinign recommendations for 'Scream 3'... \")\n",
    "print(recommend('Scream 3'))"
   ]
  },
  {
   "cell_type": "code",
   "execution_count": 76,
   "id": "875e8cef-a00d-4aa8-9675-78a18c3d1c20",
   "metadata": {},
   "outputs": [
    {
     "name": "stdout",
     "output_type": "stream",
     "text": [
      "Determinign recommendations for 'Mortal Kombat'... \n",
      "428                             Batman Returns\n",
      "4654                                       Ink\n",
      "3607                           The Beastmaster\n",
      "668                                    Elektra\n",
      "3204                              The I Inside\n",
      "3203    Ultramarines: A Warhammer 40,000 Movie\n",
      "3202                          Crocodile Dundee\n",
      "3201                   Veronika Decides to Die\n",
      "3200                     The Girl on the Train\n",
      "Name: title, dtype: object\n"
     ]
    }
   ],
   "source": [
    "print(\"Determinign recommendations for 'Mortal Kombat'... \")\n",
    "print(recommend('Mortal Kombat'))"
   ]
  },
  {
   "cell_type": "code",
   "execution_count": 77,
   "id": "e3737db2-9f4c-4295-9c8a-956c0bf21c8e",
   "metadata": {},
   "outputs": [
    {
     "name": "stdout",
     "output_type": "stream",
     "text": [
      "Determinign recommendations for 'Batman Begins'... \n",
      "1486                              The Punisher\n",
      "1661                                 Antitrust\n",
      "1868                        Cradle 2 the Grave\n",
      "2543                                  Cop Land\n",
      "1742                            Brick Mansions\n",
      "3206                                   Polisse\n",
      "3205                           Beneath Hill 60\n",
      "3204                              The I Inside\n",
      "3203    Ultramarines: A Warhammer 40,000 Movie\n",
      "Name: title, dtype: object\n"
     ]
    }
   ],
   "source": [
    "print(\"Determinign recommendations for 'Batman Begins'... \")\n",
    "print(recommend('Batman Begins'))"
   ]
  },
  {
   "cell_type": "code",
   "execution_count": 78,
   "id": "9552d217-1d66-4dba-b48a-7774faa9275f",
   "metadata": {},
   "outputs": [
    {
     "name": "stdout",
     "output_type": "stream",
     "text": [
      "Determinign recommendations for 'The Lord of the Rings: The Fellowship of the Ring'... \n",
      "262     The Lord of the Rings: The Fellowship of the Ring\n",
      "329         The Lord of the Rings: The Return of the King\n",
      "330                 The Lord of the Rings: The Two Towers\n",
      "19              The Hobbit: The Battle of the Five Armies\n",
      "2343                                  Conan the Destroyer\n",
      "208                                      The 13th Warrior\n",
      "206                                   Clash of the Titans\n",
      "379                                   Conan the Barbarian\n",
      "12             Pirates of the Caribbean: Dead Man's Chest\n",
      "Name: title, dtype: object\n"
     ]
    }
   ],
   "source": [
    "print(\"Determinign recommendations for 'The Lord of the Rings: The Fellowship of the Ring'... \")\n",
    "print(recommend('The Lord of the Rings: The Fellowship of the Ring'))"
   ]
  },
  {
   "cell_type": "code",
   "execution_count": 81,
   "id": "41e68139-2612-47f9-9368-fa37c4ae1d29",
   "metadata": {},
   "outputs": [
    {
     "name": "stdout",
     "output_type": "stream",
     "text": [
      "Determinign recommendations for 'GoodFellas'... \n",
      "4041               This Is England\n",
      "2839                      Rounders\n",
      "1243                  Mean Streets\n",
      "2582    The Place Beyond the Pines\n",
      "2731        The Godfather: Part II\n",
      "1149               American Hustle\n",
      "1464           Black Water Transit\n",
      "1370                            21\n",
      "883            Catch Me If You Can\n",
      "Name: title, dtype: object\n"
     ]
    }
   ],
   "source": [
    "print(\"Determinign recommendations for 'GoodFellas'... \")\n",
    "print(recommend('GoodFellas'))"
   ]
  },
  {
   "cell_type": "code",
   "execution_count": 83,
   "id": "e236aa08-1238-49b6-a377-8fb8aebd355d",
   "metadata": {},
   "outputs": [
    {
     "name": "stdout",
     "output_type": "stream",
     "text": [
      "Determinign recommendations for '2012'... \n",
      "47                    Star Trek Into Darkness\n",
      "4                                 John Carter\n",
      "102     The Hunger Games: Mockingjay - Part 2\n",
      "91               Independence Day: Resurgence\n",
      "59                                       2012\n",
      "2444                          Damnation Alley\n",
      "56                           Star Trek Beyond\n",
      "4042                                   U.F.O.\n",
      "507                          Independence Day\n",
      "Name: title, dtype: object\n"
     ]
    }
   ],
   "source": [
    "print(\"Determinign recommendations for '2012'... \")\n",
    "print(recommend('2012'))"
   ]
  },
  {
   "cell_type": "code",
   "execution_count": null,
   "id": "b14adfce-77d7-4171-b9cf-653e636c2d60",
   "metadata": {},
   "outputs": [],
   "source": []
  }
 ],
 "metadata": {
  "kernelspec": {
   "display_name": "Python 3 (ipykernel)",
   "language": "python",
   "name": "python3"
  },
  "language_info": {
   "codemirror_mode": {
    "name": "ipython",
    "version": 3
   },
   "file_extension": ".py",
   "mimetype": "text/x-python",
   "name": "python",
   "nbconvert_exporter": "python",
   "pygments_lexer": "ipython3",
   "version": "3.10.13"
  }
 },
 "nbformat": 4,
 "nbformat_minor": 5
}
